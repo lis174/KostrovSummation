{
 "cells": [
  {
   "cell_type": "code",
   "execution_count": 26,
   "metadata": {},
   "outputs": [
    {
     "data": {
      "text/plain": [
       "['179.70000', '-65.75000', '8.28976', '0.56404523E+02', '-0.71684856E+02']"
      ]
     },
     "execution_count": 26,
     "metadata": {},
     "output_type": "execute_result"
    }
   ],
   "source": [
    "from shapely.geometry import Point, mapping\n",
    "from shapely.geometry.polygon import Polygon\n",
    "from shapely.geometry import shape\n",
    "from shapely.ops import transform\n",
    "from functools import partial\n",
    "\n",
    "import numpy as np\n",
    "import matplotlib.pyplot as plt\n",
    "import pandas as pd\n",
    "import shapely as sp\n",
    "import pyproj\n",
    "\n",
    "with open('GSRM_strain.txt') as f:\n",
    "    array = [[x for x in line.split()] for line in f]\n",
    "GSRM_data = np.array(array)\n",
    "\n",
    "GSRM_data[1]"
   ]
  },
  {
   "cell_type": "code",
   "execution_count": 27,
   "metadata": {},
   "outputs": [],
   "source": [
    "GSRM_region = []\n",
    "for i in range(1, len(GSRM_data)):\n",
    "    if float(GSRM_data[i][0]) >= float(-95) and float(GSRM_data[i][0]) <= float(55) and float(GSRM_data[i][1]) >= float(5) and float(GSRM_data[i][1])<= float(21):\n",
    "        lon = float(GSRM_data[i][0])\n",
    "        lat = float(GSRM_data[i][1])\n",
    "        P_strike = float(GSRM_data[i][2])+90\n",
    "        T_axis = float(GSRM_data[i][3]) * 10**-9\n",
    "        P_axis = float(GSRM_data[i][4]) * 10**-9\n",
    "        GSRM_region.append([lon,lat,T_axis,P_axis, P_strike])"
   ]
  },
  {
   "cell_type": "code",
   "execution_count": 28,
   "metadata": {},
   "outputs": [],
   "source": [
    "GSRM_txt = np.array(GSRM_region)\n",
    "#tensor = tensor.astype(np.float)\n",
    "np.set_printoptions(formatter={'float_kind':'{:f}'.format})\n",
    "\n",
    "np.savetxt('GSRM_crosses.txt', GSRM_txt, delimiter = ' ', fmt=\"%s\")"
   ]
  },
  {
   "cell_type": "markdown",
   "metadata": {},
   "source": [
    "## second invariant model"
   ]
  },
  {
   "cell_type": "code",
   "execution_count": 29,
   "metadata": {},
   "outputs": [],
   "source": [
    "sec_inv = np.loadtxt('GSRMsec_invariant.dat', unpack = True)\n"
   ]
  },
  {
   "cell_type": "code",
   "execution_count": 41,
   "metadata": {},
   "outputs": [
    {
     "name": "stdout",
     "output_type": "stream",
     "text": [
      "-68.0\n",
      "[-180.000000 -179.800000 -179.600000 ... 179.400000 179.600000 179.800000]\n"
     ]
    }
   ],
   "source": [
    "print(sec_inv[1][5])\n",
    "print(sec_inv[0])"
   ]
  },
  {
   "cell_type": "code",
   "execution_count": null,
   "metadata": {},
   "outputs": [],
   "source": []
  },
  {
   "cell_type": "code",
   "execution_count": null,
   "metadata": {},
   "outputs": [],
   "source": []
  }
 ],
 "metadata": {
  "kernelspec": {
   "display_name": "Python 3",
   "language": "python",
   "name": "python3"
  },
  "language_info": {
   "codemirror_mode": {
    "name": "ipython",
    "version": 3
   },
   "file_extension": ".py",
   "mimetype": "text/x-python",
   "name": "python",
   "nbconvert_exporter": "python",
   "pygments_lexer": "ipython3",
   "version": "3.7.4"
  }
 },
 "nbformat": 4,
 "nbformat_minor": 2
}
