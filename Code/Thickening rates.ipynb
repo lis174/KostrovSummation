{
 "cells": [
  {
   "cell_type": "code",
   "execution_count": 1,
   "metadata": {},
   "outputs": [],
   "source": [
    "import numpy as np\n",
    "import matplotlib.pyplot as plt\n",
    "import pandas as pd\n",
    "import shapely as sp\n",
    "import pyproj\n",
    "\n",
    "with open('polygons43.txt') as f:\n",
    "    array = [[x for x in line.split()] for line in f]\n",
    "summation_data = np.array(array)\n",
    "\n",
    "df = pd.read_excel (r'box_info35.xlsx', columns= ['coordinates', 'eigenvalues'])\n",
    "values = df.to_numpy()"
   ]
  },
  {
   "cell_type": "markdown",
   "metadata": {},
   "source": [
    "# convert to cartesian coordinates using Aki and Richards 2002\n",
    "mrr = mzz "
   ]
  },
  {
   "cell_type": "code",
   "execution_count": 3,
   "metadata": {},
   "outputs": [
    {
     "name": "stdout",
     "output_type": "stream",
     "text": [
      "-0.02538094117336111\n",
      "-0.021650901252843427\n",
      "-0.01208043588912083\n",
      "-0.01045619893736602\n",
      "-0.013153318450590878\n",
      "-0.0002693028350439563\n",
      "0.012822784868611808\n",
      "2.218606557469959\n",
      "-0.10078519971902304\n",
      "-0.0028033961571968507\n",
      "-0.07514387383985056\n",
      "-0.09638690052378486\n",
      "-0.012850712617732834\n",
      "0.005075108762934902\n",
      "-0.0365571150898812\n",
      "0.1329874393332964\n",
      "-0.03986050569801131\n",
      "-0.08427518562372383\n",
      "-0.005086550540343121\n",
      "0.2583303839509351\n",
      "0.014873793010562287\n",
      "0.41741884372302795\n",
      "1.390366894998678\n",
      "-0.001991230833924868\n",
      "1.7783485767844214\n",
      "1.3722025759937158\n",
      "0.010215197827724197\n",
      "0.012114266530531369\n",
      "-0.0004957111163088261\n",
      "-0.16308338154223623\n",
      "-0.012112621431690214\n",
      "-0.009877674482871678\n",
      "0.010060345698062073\n",
      "0.006945950257684553\n",
      "0.015654589205533188\n",
      "0.0014634574511057017\n",
      "42.82082689916047\n",
      "0.006464645968737372\n",
      "0.0014196448456263804\n",
      "0.007409416004277839\n",
      "0.002289421606168322\n",
      "-0.003582627737748562\n",
      "0.0010093707097765913\n"
     ]
    }
   ],
   "source": [
    "crustal_thickening = []\n",
    "\n",
    "volumes = [2738255593341648.5, 444407282147413.6, 1309481510701332.0, 652734708647522.8, 2494933980371363.5, 2.5120879124194624e+16, 1500170503792142.5, 282403793940554.44, 371939039836498.25, 1346065096551136.5, 639745986984809.2, 5501815488069359.0, 2103340280935481.0, 771224769676343.0, 1797834325877326.2, 5842961559101310.0, 2656155526010325.5, 1448812105096541.2, 364454882953572.06, 1281998534158568.8, 1574992719465963.8, 749211524508878.1, 3473865058626272.5, 613035010345812.9, 1103084505444727.4, 1231935300926130.0, 1430634543010989.8, 625086363324814.0, 937629544987221.0, 1.2231932160344006e+16, 2.8227535754640016e+16, 726694284087202.2, 3773220321222012.0, 2103562382016276.8, 5444514400512716.0, 801340190547548.6, 3338917460.614786, 1489950114295470.0, 677250051952486.4, 2338645851440335.5, 2739556568830107.0, 1871049190135863.0, 1644916542981404.0]\n",
    "mu = 3.3*10**10\n",
    "t = (2021-1976 + 10/12) #in year\n",
    "pm = 3350 # mantle density in kg/m3\n",
    "pc = 2780 # crust density in kg/m3\n",
    "\n",
    "for i in range(len(summation_data)):\n",
    "    lon = float(summation_data[i][0])\n",
    "    lat = float(summation_data[i][1])\n",
    "    # extract mrr (=mzz)\n",
    "    mrr = float(summation_data[i][3])*10**16\n",
    "    volume = volumes[i]\n",
    "    ezz = mrr/(2*mu*volume*t) # yrˆ-1\n",
    "    # crustal thickness\n",
    "    crustal_thickness = values[i][34]\n",
    "    crustal_thickening_rate = crustal_thickness * ezz * 1000 # in mm/yr\n",
    "    uplift_rate = crustal_thickening_rate * (pm-pc)/pm\n",
    "    crustal_thickening.append([lon,lat,crustal_thickening_rate,uplift_rate])\n",
    "\n",
    "\n",
    "for i in range(len(crustal_thickening)):\n",
    "    print(crustal_thickening[i][2])"
   ]
  },
  {
   "cell_type": "code",
   "execution_count": null,
   "metadata": {},
   "outputs": [],
   "source": []
  }
 ],
 "metadata": {
  "kernelspec": {
   "display_name": "Python 3",
   "language": "python",
   "name": "python3"
  },
  "language_info": {
   "codemirror_mode": {
    "name": "ipython",
    "version": 3
   },
   "file_extension": ".py",
   "mimetype": "text/x-python",
   "name": "python",
   "nbconvert_exporter": "python",
   "pygments_lexer": "ipython3",
   "version": "3.7.4"
  }
 },
 "nbformat": 4,
 "nbformat_minor": 2
}
